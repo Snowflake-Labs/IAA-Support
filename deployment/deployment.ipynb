{
 "cells": [
  {
   "cell_type": "markdown",
   "metadata": {},
   "source": [
    "# Interactive Assessment Application"
   ]
  },
  {
   "cell_type": "markdown",
   "metadata": {},
   "source": [
    "## Getting Started with Streamlit in Snowflake (SiS)"
   ]
  },
  {
   "cell_type": "markdown",
   "metadata": {},
   "source": [
    "### *Pre-requisites:*\n",
    "    \n",
    "- An application to run this notebook file like [VSCode](https://code.visualstudio.com/) or [Jupyter](https://jupyter.org/)\n",
    "\n",
    "- Specify your Snowflake credentials updating the following file ```./iaa_config.toml``` required by snowflakecli.\n",
    "\n",
    "**Notice**: The Snowflake Cli will be used for this deployments process."
   ]
  },
  {
   "cell_type": "markdown",
   "metadata": {},
   "source": [
    "### Python3.11 Requirement "
   ]
  },
  {
   "cell_type": "code",
   "execution_count": null,
   "metadata": {
    "vscode": {
     "languageId": "shellscript"
    }
   },
   "outputs": [],
   "source": [
    "! chmod +x ./pre_req_install_python_3.sh\n",
    "! bash ./pre_req_install_python_3.sh"
   ]
  },
  {
   "cell_type": "markdown",
   "metadata": {},
   "source": [
    "### Snowflake CLI Requirement"
   ]
  },
  {
   "cell_type": "code",
   "execution_count": null,
   "metadata": {
    "vscode": {
     "languageId": "shellscript"
    }
   },
   "outputs": [],
   "source": [
    "! python3 ./pre_req_install_snow_3.py"
   ]
  },
  {
   "cell_type": "code",
   "execution_count": null,
   "metadata": {
    "vscode": {
     "languageId": "shellscript"
    }
   },
   "outputs": [],
   "source": [
    "! snow --info\n",
    "! snow --version"
   ]
  },
  {
   "cell_type": "markdown",
   "metadata": {},
   "source": [
    "### Snowflake Account Configuration"
   ]
  },
  {
   "cell_type": "code",
   "execution_count": null,
   "metadata": {},
   "outputs": [],
   "source": [
    "from IPython.display import display, HTML\n",
    "\n",
    "warning_message = \"<div style='padding: 20x; background-color: yellow; color: black; border: 1px solid red;'>Warning! Please Check your config .toml file before to continue</div>\"\n",
    "display(HTML(warning_message))"
   ]
  },
  {
   "cell_type": "markdown",
   "metadata": {},
   "source": [
    "```toml\n",
    "    [connections.name]\n",
    "    account = \"<Snowflake Account Identifier>\"\n",
    "    user = \"<Snowflake Username>\"\n",
    "    password = \"<Snowflake password, if not using key/pair>\"\n",
    "    database = \"<Snowflake database>\"\n",
    "    schema = \"\"<Snowflake schema>\"\"\n",
    "    warehouse = \"\"<Snowflake warehouse>\"\"\n",
    "    role = \"\"<Snowflake role>\"\"\n",
    "```"
   ]
  },
  {
   "cell_type": "markdown",
   "metadata": {
    "vscode": {
     "languageId": "shellscript"
    }
   },
   "source": [
    "#### *Note*\n",
    "\n",
    "For MacOS and Linux systems, Snowflake cli requires the ```iaa_config.toml``` file to limit its file permissions to read and write for the file owner only. To set the file required file permissions execute the following commands: [more info](https://docs.snowflake.com/en/developer-guide/snowflake-cli/connecting/specify-credentials#add-snowflake-credentials-using-a-configuration-file)\n"
   ]
  },
  {
   "cell_type": "markdown",
   "metadata": {},
   "source": [
    "#### Snowflake Toml local file"
   ]
  },
  {
   "cell_type": "code",
   "execution_count": null,
   "metadata": {
    "vscode": {
     "languageId": "shellscript"
    }
   },
   "outputs": [],
   "source": [
    "! if [[ $(uname -s) == \"Linux\" || $(uname -s) == \"Darwin\" ]]; then chmod 0600 \"iaa_config.toml\" ; fi\n",
    "! pwd && ls -la iaa_config.toml"
   ]
  },
  {
   "cell_type": "markdown",
   "metadata": {},
   "source": [
    "#### Validate Connection Entries\n",
    "\n",
    "Run the following command for getting information about the new app."
   ]
  },
  {
   "cell_type": "code",
   "execution_count": null,
   "metadata": {
    "vscode": {
     "languageId": "shellscript"
    }
   },
   "outputs": [],
   "source": [
    "! chmod +x ./pre_req_validate_iaa_config_toml.py\n",
    "! python ./pre_req_validate_iaa_config_toml.py"
   ]
  },
  {
   "cell_type": "markdown",
   "metadata": {},
   "source": [
    "#### Check Point Connection to Snowflake\n",
    "\n",
    "Run the following command for checking a valid Snowflake connection"
   ]
  },
  {
   "cell_type": "code",
   "execution_count": null,
   "metadata": {
    "vscode": {
     "languageId": "shellscript"
    }
   },
   "outputs": [],
   "source": [
    "! snow --config-file ./iaa_config.toml sql -q \"Select CURRENT_ORGANIZATION_NAME();Select CURRENT_ACCOUNT_NAME();\" -c iaa"
   ]
  },
  {
   "cell_type": "markdown",
   "metadata": {},
   "source": [
    "## Deployment to SiS"
   ]
  },
  {
   "cell_type": "markdown",
   "metadata": {},
   "source": [
    "### Configure local environment"
   ]
  },
  {
   "cell_type": "markdown",
   "metadata": {},
   "source": [
    "### Get Connection Entries\n",
    "\n",
    "Run the following command for getting information about the new app configured before."
   ]
  },
  {
   "cell_type": "code",
   "execution_count": null,
   "metadata": {},
   "outputs": [],
   "source": [
    "import os\n",
    "import toml\n",
    "import yaml\n",
    "\n",
    "config = toml.load(\"iaa_config.toml\")\n",
    "user_value = config[\"connections\"][\"iaa\"][\"user\"]\n",
    "os.environ[\"MY_USER\"] = user_value\n",
    "database_value = config[\"connections\"][\"iaa\"][\"database\"]\n",
    "os.environ[\"MY_DATABASE\"] = database_value\n",
    "schema_value = config[\"connections\"][\"iaa\"][\"schema\"]\n",
    "os.environ[\"MY_SCHEMA\"] = schema_value\n",
    "warehouse_value = config[\"connections\"][\"iaa\"][\"warehouse\"]\n",
    "os.environ[\"MY_WAREHOUSE\"] = warehouse_value\n",
    "\n",
    "file_path = os.path.join(\"../streamlit/\", \"snowflake.yml\")\n",
    "with open(file_path, \"r\") as file:\n",
    "    config = yaml.safe_load(file)\n",
    "\n",
    "app_main_file = config[\"entities\"][\"streamlit_app\"][\"main_file\"]\n",
    "os.environ[\"MY_APP_MAIN\"] = app_main_file\n",
    "app_name = config[\"entities\"][\"streamlit_app\"][\"identifier\"][\"name\"]\n",
    "os.environ[\"MY_APP\"] = app_name\n",
    "app_title = config[\"entities\"][\"streamlit_app\"][\"title\"]\n",
    "os.environ[\"MY_APP_TITLE\"] = app_title\n",
    "app_stage = config[\"entities\"][\"streamlit_app\"][\"stage\"]\n",
    "os.environ[\"MY_APP_STAGE\"] = app_stage\n",
    "app_wh = config[\"entities\"][\"streamlit_app\"][\"query_warehouse\"]\n",
    "os.environ[\"MY_APP_WH\"] = app_wh\n",
    "\n",
    "print(f\"MAIN FILE:  {os.environ['MY_APP_MAIN']}\")\n",
    "print(f\"APP NAME:   {os.environ['MY_APP']}\")\n",
    "print(f\"APP TITLE:  {os.environ['MY_APP_TITLE']}\")"
   ]
  },
  {
   "cell_type": "markdown",
   "metadata": {},
   "source": [
    "### Deploying Streamlit to SiS by snowflakecli"
   ]
  },
  {
   "cell_type": "markdown",
   "metadata": {},
   "source": [
    "Configure the Snowflake user for deployment process"
   ]
  },
  {
   "cell_type": "code",
   "execution_count": null,
   "metadata": {},
   "outputs": [],
   "source": [
    "print(f\"MY USER NAME        : {os.environ['MY_USER']}\")\n",
    "\n",
    "!snow --config-file ../deployment/iaa_config.toml sql -q \"alter user {os.environ['MY_USER']} set MINS_TO_BYPASS_MFA=20;\" -c iaa\n",
    "!snow --config-file ../deployment/iaa_config.toml sql -q \"describe user {os.environ['MY_USER']};\" -c iaa"
   ]
  },
  {
   "cell_type": "markdown",
   "metadata": {},
   "source": [
    "#### Deployment the App Schema to SiS"
   ]
  },
  {
   "cell_type": "code",
   "execution_count": null,
   "metadata": {
    "vscode": {
     "languageId": "shellscript"
    }
   },
   "outputs": [],
   "source": [
    "! chmod +x ./pre_req_schema_config.sh\n",
    "\n",
    "MY_DEPLOY_DB = !(grep 'database' iaa_config.toml | cut -d'=' -f2 | tr -d ' \"')\n",
    "MY_DEPLOY_SCHEMA = !(grep 'schema' iaa_config.toml | cut -d'=' -f2 | tr -d ' \"')\n",
    "MY_DEPLOY_STAGE = !(grep 'stage' ../streamlit/snowflake.yml | awk '{print $2}')\n",
    "MY_DEPLOY_WAREHOUSE = !(grep 'warehouse' iaa_config.toml | cut -d'=' -f2 | tr -d ' \"')\n",
    "\n",
    "! bash ./pre_req_schema_config.sh \"{MY_DEPLOY_DB[0]}\" \"{MY_DEPLOY_SCHEMA[0]}\" \"{MY_DEPLOY_STAGE[0]}\" \"{MY_DEPLOY_WAREHOUSE[0]}\"\n",
    "! snow --config-file ../deployment/iaa_config.toml sql -q \"CREATE DATABASE IF NOT EXISTS {MY_DEPLOY_DB[0]};\" -c iaa\n",
    "! snow --config-file ../deployment/iaa_config.toml sql --filename ../schema/APP_SCHEMA.sql -c iaa;"
   ]
  },
  {
   "cell_type": "markdown",
   "metadata": {},
   "source": [
    "#### Deployment the Maps Stage to SiS"
   ]
  },
  {
   "cell_type": "code",
   "execution_count": null,
   "metadata": {
    "vscode": {
     "languageId": "shellscript"
    }
   },
   "outputs": [],
   "source": [
    "! chmod +x ./upload_mappings.py\n",
    "! python ./upload_mappings.py"
   ]
  },
  {
   "cell_type": "markdown",
   "metadata": {},
   "source": [
    "#### Deployment the APP to SiS"
   ]
  },
  {
   "cell_type": "code",
   "execution_count": null,
   "metadata": {
    "vscode": {
     "languageId": "shellscript"
    }
   },
   "outputs": [],
   "source": [
    "! pwd && ls -la ../deployment/iaa_config.toml\n",
    "! cd ../streamlit && snow --config-file ../deployment/iaa_config.toml streamlit deploy --replace --verbose -c iaa"
   ]
  },
  {
   "cell_type": "markdown",
   "metadata": {},
   "source": [
    "#### Refresh Deployment"
   ]
  },
  {
   "cell_type": "code",
   "execution_count": null,
   "metadata": {
    "vscode": {
     "languageId": "shellscript"
    }
   },
   "outputs": [],
   "source": [
    "! snow --config-file ./iaa_config.toml sql -q \"ALTER TASK UPDATE_IAA_TABLES_TASK RESUME;ALTER TASK REFRESH_MAPPINGS_CORE_TASK RESUME;CALL REFRESH_MANUAL_MAPPINGS();\" -c iaa"
   ]
  },
  {
   "cell_type": "markdown",
   "metadata": {},
   "source": [
    "## Getting Application Information"
   ]
  },
  {
   "cell_type": "code",
   "execution_count": null,
   "metadata": {},
   "outputs": [],
   "source": [
    "import subprocess\n",
    "import re\n",
    "import os\n",
    "\n",
    "result = subprocess.check_output(\n",
    "    f\"snow --config-file ../deployment/iaa_config.toml streamlit get-url {os.environ['MY_DATABASE']}.{os.environ['MY_SCHEMA']}.{os.environ['MY_APP']} -c iaa\",\n",
    "    shell=True,\n",
    ").decode(\"UTF-8\")\n",
    "ansi_escape = re.compile(r\"(?:\\x1B[@-_]|[\\x80-\\x9F])[0-?]*[ -/]*[@-~]\")\n",
    "clean_url = ansi_escape.sub(\"\", result)\n",
    "os.environ[\"IAA_APP_URL\"] = clean_url\n",
    "print(clean_url)"
   ]
  },
  {
   "cell_type": "code",
   "execution_count": null,
   "metadata": {},
   "outputs": [],
   "source": [
    "from IPython.display import display as displayHTML, HTML\n",
    "\n",
    "URL = os.environ[\"IAA_APP_URL\"]\n",
    "html = f'<html><div  style=\"display:flex;justify-content: center;\"><a href=\"{URL}\"><button style=\"background-color:#249edc;color: #fff;border:1px solid #249edc;cursor:pointer;border-radius:45px;font-weight:800;line-height:18px;padding: 8px 16px\" type=\"button\">Open IAA</button></a></div></html>'\n",
    "displayHTML(HTML(html))"
   ]
  }
 ],
 "metadata": {
  "kernelspec": {
   "display_name": "py311",
   "language": "python",
   "name": "python3"
  },
  "language_info": {
   "codemirror_mode": {
    "name": "ipython",
    "version": 3
   },
   "file_extension": ".py",
   "mimetype": "text/x-python",
   "name": "python",
   "nbconvert_exporter": "python",
   "pygments_lexer": "ipython3",
   "version": "3.11.5"
  }
 },
 "nbformat": 4,
 "nbformat_minor": 2
}
